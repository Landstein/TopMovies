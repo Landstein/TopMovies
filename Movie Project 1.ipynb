{
 "cells": [
  {
   "cell_type": "markdown",
   "metadata": {},
   "source": [
    "# Mod 1 Movie Project"
   ]
  },
  {
   "cell_type": "markdown",
   "metadata": {},
   "source": [
    "#### Scrape the DVD / Blue Ray sales from https://www.the-numbers.com/\n",
    "1. Import request to get the webpage in a json format \n",
    "1. Use beautiful soup to parse the html\n",
    "2. scrape the top DVD sales for 2018 / 2019\n",
    "3. Scrape the top blue ray sales for 2018 / 2019\n",
    "4. Built function top_100_sales that intakes a URL of a top 100 page and outputs a list of dictionaries\n",
    "5. Output example: \n",
    "    {'Name': 'Mamma Mia!',\n",
    "     'rank': 100,\n",
    "     'Units Sold': '232687',\n",
    "     'Consumer Spending': '2522707'}"
   ]
  },
  {
   "cell_type": "code",
   "execution_count": 5,
   "metadata": {},
   "outputs": [],
   "source": [
    "import requests\n",
    "from bs4 import BeautifulSoup"
   ]
  },
  {
   "cell_type": "code",
   "execution_count": 6,
   "metadata": {},
   "outputs": [],
   "source": [
    "def top_100_sales(url):\n",
    "    top_list = []\n",
    "    top_dict = {}\n",
    "    \n",
    "    top_url = requests.get(url)\n",
    "    top_soup = BeautifulSoup(top_url.content, 'html.parser')\n",
    "    top_numbers = top_soup.find_all('td', class_='data')\n",
    "    \n",
    "    \n",
    "\n",
    "    for i in range(0, len(top_numbers), 3):\n",
    "        rank = top_numbers[i].text \n",
    "        rank_int = int(rank)\n",
    "        units_sold = top_numbers[i+1].text \n",
    "        consumer_spending = top_numbers[i+2].text\n",
    "        movie_name = top_soup.find_all('b')[rank_int - 1].get_text()\n",
    "        top_dict['Name'] = movie_name\n",
    "        top_dict['rank'] = rank_int\n",
    "        top_dict['Units Sold'] = units_sold.replace(',', '')\n",
    "        consumer_spending =  consumer_spending.replace('$', '')\n",
    "        top_dict['Consumer Spending'] = consumer_spending.replace(',', '')\n",
    "        top_list.append(top_dict)\n",
    "        top_dict = {}\n",
    "        \n",
    "    return top_list"
   ]
  },
  {
   "cell_type": "code",
   "execution_count": 8,
   "metadata": {},
   "outputs": [],
   "source": [
    "top_dvd_2018 = top_100_sales(\"https://www.the-numbers.com/home-market/dvd-sales/2018\")"
   ]
  },
  {
   "cell_type": "code",
   "execution_count": 10,
   "metadata": {},
   "outputs": [
    {
     "data": {
      "text/plain": [
       "{'Name': 'The Greatest Showman',\n",
       " 'rank': 1,\n",
       " 'Units Sold': '1865146',\n",
       " 'Consumer Spending': '22507136'}"
      ]
     },
     "execution_count": 10,
     "metadata": {},
     "output_type": "execute_result"
    }
   ],
   "source": [
    "top_dvd_2018[0]"
   ]
  },
  {
   "cell_type": "code",
   "execution_count": 11,
   "metadata": {},
   "outputs": [],
   "source": [
    "top_dvd_2019 = top_100_sales('https://www.the-numbers.com/home-market/dvd-sales/2019')"
   ]
  },
  {
   "cell_type": "code",
   "execution_count": 12,
   "metadata": {},
   "outputs": [
    {
     "data": {
      "text/plain": [
       "{'Name': 'Aquaman',\n",
       " 'rank': 1,\n",
       " 'Units Sold': '842834',\n",
       " 'Consumer Spending': '13889642'}"
      ]
     },
     "execution_count": 12,
     "metadata": {},
     "output_type": "execute_result"
    }
   ],
   "source": [
    "top_dvd_2019[0]"
   ]
  },
  {
   "cell_type": "code",
   "execution_count": 17,
   "metadata": {},
   "outputs": [],
   "source": [
    "top_br_2018 = top_100_sales(\"https://www.the-numbers.com/home-market/bluray-sales/2018\")"
   ]
  },
  {
   "cell_type": "code",
   "execution_count": 18,
   "metadata": {},
   "outputs": [
    {
     "data": {
      "text/plain": [
       "{'Name': 'Avengers: Infinity War',\n",
       " 'rank': 1,\n",
       " 'Units Sold': '3146365',\n",
       " 'Consumer Spending': '72977031'}"
      ]
     },
     "execution_count": 18,
     "metadata": {},
     "output_type": "execute_result"
    }
   ],
   "source": [
    "top_br_2018[0]"
   ]
  },
  {
   "cell_type": "code",
   "execution_count": 19,
   "metadata": {},
   "outputs": [],
   "source": [
    "top_br_2019 = top_100_sales(\"https://www.the-numbers.com/home-market/bluray-sales/2019\")"
   ]
  },
  {
   "cell_type": "code",
   "execution_count": 20,
   "metadata": {},
   "outputs": [
    {
     "data": {
      "text/plain": [
       "{'Name': 'Avengers: Endgame',\n",
       " 'rank': 1,\n",
       " 'Units Sold': '2344419',\n",
       " 'Consumer Spending': '54199501'}"
      ]
     },
     "execution_count": 20,
     "metadata": {},
     "output_type": "execute_result"
    }
   ],
   "source": [
    "top_br_2019[0]"
   ]
  },
  {
   "cell_type": "markdown",
   "metadata": {},
   "source": [
    "#### Use the request library to pull the contents of the 2018 DVD sales web page "
   ]
  },
  {
   "cell_type": "code",
   "execution_count": null,
   "metadata": {},
   "outputs": [],
   "source": [
    "# Top DVD Sales from 2018 https://www.the-numbers.com/home-market/dvd-sales/2018\n",
    "# top_dvd = requests.get(\"https://www.the-numbers.com/home-market/dvd-sales/2018\")\n",
    "# top_dvd.status_code\n"
   ]
  },
  {
   "cell_type": "markdown",
   "metadata": {},
   "source": [
    "Import beautiful soup.  Create variable dvd_soup to hold contents of top dvd 2018 sales web page"
   ]
  },
  {
   "cell_type": "code",
   "execution_count": null,
   "metadata": {
    "scrolled": true
   },
   "outputs": [],
   "source": [
    "# from bs4 import BeautifulSoup\n",
    "# dvd_soup = BeautifulSoup(top_dvd.content, 'html.parser')"
   ]
  },
  {
   "cell_type": "markdown",
   "metadata": {},
   "source": [
    "# DVD 2018 Sales"
   ]
  },
  {
   "cell_type": "markdown",
   "metadata": {},
   "source": [
    "### Function that outputs top 100 page"
   ]
  },
  {
   "cell_type": "code",
   "execution_count": null,
   "metadata": {},
   "outputs": [],
   "source": [
    "# def top_100_sales(url):\n",
    "#     top_list = []\n",
    "#     top_dict = {}\n",
    "    \n",
    "#     top_url = requests.get(url)\n",
    "#     top_soup = BeautifulSoup(top_url.content, 'html.parser')\n",
    "#     top_numbers = top_soup.find_all('td', class_='data')\n",
    "    \n",
    "    \n",
    "\n",
    "#     for i in range(0, len(top_numbers), 3):\n",
    "#         rank = top_numbers[i].text \n",
    "#         rank_int = int(rank)\n",
    "#         units_sold = top_numbers[i+1].text \n",
    "#         consumer_spending = top_numbers[i+2].text\n",
    "#         movie_name = top_soup.find_all('b')[rank_int - 1].get_text()\n",
    "#         top_dict['Name'] = movie_name\n",
    "#         top_dict['rank'] = rank_int\n",
    "#         top_dict['Units Sold'] = units_sold.replace(',', '')\n",
    "#         consumer_spending =  consumer_spending.replace('$', '')\n",
    "#         top_dict['Consumer Spending'] = consumer_spending.replace(',', '')\n",
    "#         top_list.append(top_dict)\n",
    "#         top_dict = {}\n",
    "        \n",
    "#     return top_list\n",
    "    "
   ]
  },
  {
   "cell_type": "code",
   "execution_count": 3,
   "metadata": {},
   "outputs": [],
   "source": [
    "# top_dvd_2018 = top_100_sales(\"https://www.the-numbers.com/home-market/dvd-sales/2018\")"
   ]
  },
  {
   "cell_type": "code",
   "execution_count": 4,
   "metadata": {},
   "outputs": [
    {
     "data": {
      "text/plain": [
       "{'Name': 'Mamma Mia!',\n",
       " 'rank': 100,\n",
       " 'Units Sold': '232687',\n",
       " 'Consumer Spending': '2522707'}"
      ]
     },
     "execution_count": 4,
     "metadata": {},
     "output_type": "execute_result"
    }
   ],
   "source": [
    "# top_dvd_2018[99]"
   ]
  },
  {
   "cell_type": "markdown",
   "metadata": {},
   "source": [
    "### Use find_all method to locate all b elements to find movie names"
   ]
  },
  {
   "cell_type": "code",
   "execution_count": null,
   "metadata": {},
   "outputs": [],
   "source": [
    "# dvd_soup.find_all('b')[0].get_text()"
   ]
  },
  {
   "cell_type": "markdown",
   "metadata": {},
   "source": [
    "### find_all method to locate all td elements with class data"
   ]
  },
  {
   "cell_type": "code",
   "execution_count": null,
   "metadata": {},
   "outputs": [],
   "source": [
    "# dvd_numbers = dvd_soup.find_all('td', class_='data')\n",
    "# print(dvd_numbers[0].text, dvd_numbers[1].text, dvd_numbers[2].text)"
   ]
  },
  {
   "cell_type": "markdown",
   "metadata": {},
   "source": [
    "### For Loop that creates list of dictionaries. \n",
    "1. Loop through 100 movies\n",
    "2. Keys = Name, Rank, Units Sold, Consumer Spending \n",
    "3. Create dictionary for each movie "
   ]
  },
  {
   "cell_type": "code",
   "execution_count": null,
   "metadata": {},
   "outputs": [],
   "source": [
    "# dvd_2018 = []\n",
    "# dict_dvd = {}\n",
    "\n",
    "# for i in range(0, len(dvd_numbers), 3):\n",
    "#     rank = dvd_numbers[i].text \n",
    "#     rank_int = int(rank)\n",
    "#     units_sold = dvd_numbers[i+1].text \n",
    "#     consumer_spending = dvd_numbers[i+2].text\n",
    "#     movie_name = dvd_soup.find_all('b')[rank_int - 1].get_text()\n",
    "#     dict_dvd['Name'] = movie_name\n",
    "#     dict_dvd['rank'] = rank_int\n",
    "#     dict_dvd['Units Sold'] = units_sold.replace(',', '')\n",
    "#     consumer_spending =  consumer_spending.replace('$', '')\n",
    "#     dict_dvd['Consumer Spending'] = consumer_spending.replace(',', '')\n",
    "#     dvd_2018.append(dict_dvd)\n",
    "#     dict_dvd = {}\n",
    "#     print(f'Movie Rank: {rank}, {movie_name}, Units Sold: {units_sold}, Consumer_spending: {consumer_spending}')"
   ]
  },
  {
   "cell_type": "code",
   "execution_count": null,
   "metadata": {},
   "outputs": [],
   "source": [
    "print(dvd_2018[20])"
   ]
  },
  {
   "cell_type": "markdown",
   "metadata": {},
   "source": [
    "# 2019 DVD Sales"
   ]
  },
  {
   "cell_type": "code",
   "execution_count": null,
   "metadata": {},
   "outputs": [],
   "source": [
    "# top_dvd_2019 = requests.get(\"https://www.the-numbers.com/home-market/dvd-sales/2019\")\n",
    "# top_dvd_2019.status_code\n"
   ]
  },
  {
   "cell_type": "code",
   "execution_count": null,
   "metadata": {},
   "outputs": [],
   "source": [
    "# from bs4 import BeautifulSoup\n",
    "# dvd_soup_2019 = BeautifulSoup(top_dvd_2019.content, 'html.parser')"
   ]
  },
  {
   "cell_type": "code",
   "execution_count": null,
   "metadata": {},
   "outputs": [],
   "source": [
    "# dvd_soup_2019.find_all('b')[0].get_text()"
   ]
  },
  {
   "cell_type": "code",
   "execution_count": null,
   "metadata": {},
   "outputs": [],
   "source": [
    "# dvd_numbers_2019 = dvd_soup_2019.find_all('td', class_='data')\n",
    "# print(dvd_numbers_2019[0].text, dvd_numbers_2019[1].text, dvd_numbers_2019[2].text)"
   ]
  },
  {
   "cell_type": "code",
   "execution_count": null,
   "metadata": {},
   "outputs": [],
   "source": [
    "# dvd_2019 = []\n",
    "# dict_dvd = {}\n",
    "\n",
    "# for i in range(0, len(dvd_numbers_2019), 3):\n",
    "#     rank = dvd_numbers_2019[i].text \n",
    "#     rank_int = int(rank)\n",
    "#     units_sold = dvd_numbers_2019[i+1].text \n",
    "#     consumer_spending = dvd_numbers_2019[i+2].text\n",
    "#     movie_name = dvd_soup_2019.find_all('b')[rank_int - 1].get_text()\n",
    "#     dict_dvd['Name'] = movie_name\n",
    "#     dict_dvd['rank'] = rank_int\n",
    "#     dict_dvd['Units Sold'] = units_sold.replace(',', '')\n",
    "#     consumer_spending =  consumer_spending.replace('$', '')\n",
    "#     dict_dvd['Consumer Spending'] = consumer_spending.replace(',', '')\n",
    "#     dvd_2019.append(dict_dvd)\n",
    "#     dict_dvd = {}"
   ]
  },
  {
   "cell_type": "code",
   "execution_count": null,
   "metadata": {},
   "outputs": [],
   "source": [
    "# print(dvd_2019[0])"
   ]
  },
  {
   "cell_type": "markdown",
   "metadata": {},
   "source": [
    "# Blue Ray 2018 Sales"
   ]
  },
  {
   "cell_type": "code",
   "execution_count": null,
   "metadata": {},
   "outputs": [],
   "source": [
    "# top_br = requests.get(\"https://www.the-numbers.com/home-market/bluray-sales/2018\")\n",
    "# top_br.status_code\n"
   ]
  },
  {
   "cell_type": "code",
   "execution_count": null,
   "metadata": {},
   "outputs": [],
   "source": [
    "# br_soup = BeautifulSoup(top_br.content, 'html.parser')"
   ]
  },
  {
   "cell_type": "code",
   "execution_count": null,
   "metadata": {},
   "outputs": [],
   "source": [
    "# br_soup.find_all('b')[0].get_text()"
   ]
  },
  {
   "cell_type": "code",
   "execution_count": null,
   "metadata": {},
   "outputs": [],
   "source": [
    "# br_numbers = br_soup.find_all('td', class_='data')\n",
    "# print(br_numbers[0].text, br_numbers[1].text, br_numbers[2].text)"
   ]
  },
  {
   "cell_type": "code",
   "execution_count": null,
   "metadata": {},
   "outputs": [],
   "source": [
    "# br_2018 = []\n",
    "# dict_br = {}\n",
    "\n",
    "# for i in range(0, len(br_numbers), 3):\n",
    "#     rank = br_numbers[i].text \n",
    "#     rank_int = int(rank)\n",
    "#     units_sold = br_numbers[i+1].text \n",
    "#     consumer_spending = br_numbers[i+2].text\n",
    "#     movie_name = br_soup.find_all('b')[rank_int - 1].get_text()\n",
    "#     dict_br['Name'] = movie_name\n",
    "#     dict_br['rank'] = rank_int\n",
    "#     dict_br['Units Sold'] = units_sold.replace(',', '')\n",
    "#     consumer_spending =  consumer_spending.replace('$', '')\n",
    "#     dict_br['Consumer Spending'] = consumer_spending.replace(',', '')\n",
    "    \n",
    "#     br_2018.append(dict_br)\n",
    "#     dict_br = {}"
   ]
  },
  {
   "cell_type": "code",
   "execution_count": null,
   "metadata": {},
   "outputs": [],
   "source": [
    "# for i in range(len(br_2018)):\n",
    "#     if br_2018[i]['Name'] not in str(front_titles_to_keep):\n",
    "#         print(br_2018[i]['Name'])\n",
    "#     else:\n",
    "#         print('Good   ', br_2018[i]['Name'])\n",
    "        "
   ]
  },
  {
   "cell_type": "code",
   "execution_count": null,
   "metadata": {},
   "outputs": [],
   "source": [
    "# for i in range(len(br_2018)):\n",
    "#     print(i, br_2018[i]['Name'])"
   ]
  },
  {
   "cell_type": "code",
   "execution_count": null,
   "metadata": {},
   "outputs": [],
   "source": [
    "# # Testing Name \n",
    "# br_2018_titles = []\n",
    "# for i in br_2018:\n",
    "#     title = i['Name']\n",
    "#     br_2018_titles.append(title)\n",
    "    "
   ]
  },
  {
   "cell_type": "code",
   "execution_count": null,
   "metadata": {},
   "outputs": [],
   "source": [
    "# front_titles_to_keep = []\n",
    "# back_titles_to_keep = []\n",
    "# for i in br_2018_titles:\n",
    "#     if i[0:5] in str(movie_titles_2018):\n",
    "#         front_titles_to_keep.append(i)\n",
    "#     if i[-4:] in str(movie_titles_2018):\n",
    "#         back_titles_to_keep.append(i)\n",
    "        \n",
    "# if len(front_titles_to_keep) == len(back_titles_to_keep):\n",
    "#     print(True)\n",
    "# else:\n",
    "#     print(f'Front: {len(front_titles_to_keep)}, Back: {len(back_titles_to_keep)}')\n",
    "#     print(front_titles_to_keep)\n",
    "              \n",
    "    "
   ]
  },
  {
   "cell_type": "code",
   "execution_count": null,
   "metadata": {},
   "outputs": [],
   "source": [
    "# for i in front_titles_to_keep:\n",
    "#     print(i)"
   ]
  },
  {
   "cell_type": "code",
   "execution_count": null,
   "metadata": {},
   "outputs": [],
   "source": [
    "# len(front_titles_to_keep)"
   ]
  },
  {
   "cell_type": "markdown",
   "metadata": {},
   "source": [
    "# Blue Ray 2019 Sales"
   ]
  },
  {
   "cell_type": "code",
   "execution_count": null,
   "metadata": {},
   "outputs": [],
   "source": [
    "# top_br_2019 = requests.get(\"https://www.the-numbers.com/home-market/bluray-sales/2019\")\n",
    "# top_br_2019.status_code\n"
   ]
  },
  {
   "cell_type": "code",
   "execution_count": null,
   "metadata": {},
   "outputs": [],
   "source": [
    "# br_soup_2019 = BeautifulSoup(top_br_2019.content, 'html.parser')"
   ]
  },
  {
   "cell_type": "code",
   "execution_count": null,
   "metadata": {},
   "outputs": [],
   "source": [
    "# br_soup_2019.find_all('b')[0].get_text()"
   ]
  },
  {
   "cell_type": "code",
   "execution_count": null,
   "metadata": {},
   "outputs": [],
   "source": [
    "# br_numbers_2019 = br_soup_2019.find_all('td', class_='data')\n",
    "# print(br_numbers_2019[0].text, br_numbers_2019[1].text, br_numbers_2019[2].text)"
   ]
  },
  {
   "cell_type": "code",
   "execution_count": null,
   "metadata": {},
   "outputs": [],
   "source": [
    "# br_2019 = []\n",
    "# dict_br = {}\n",
    "\n",
    "# for i in range(0, len(br_numbers_2019), 3):\n",
    "#     rank = br_numbers_2019[i].text \n",
    "#     rank_int = int(rank)\n",
    "#     units_sold = br_numbers_2019[i+1].text \n",
    "#     consumer_spending = br_numbers_2019[i+2].text\n",
    "#     movie_name = br_soup_2019.find_all('b')[rank_int - 1].get_text()\n",
    "#     dict_br['Name'] = movie_name\n",
    "#     dict_br['rank'] = rank_int\n",
    "#     dict_br['Units Sold'] = units_sold.replace(',', '')\n",
    "#     consumer_spending =  consumer_spending.replace('$', '')\n",
    "#     dict_br['Consumer Spending'] = consumer_spending.replace(',', '')\n",
    "    \n",
    "#     br_2019.append(dict_br)\n",
    "#     dict_br = {}"
   ]
  },
  {
   "cell_type": "markdown",
   "metadata": {},
   "source": [
    "# Top 2018 Domestic Movies"
   ]
  },
  {
   "cell_type": "code",
   "execution_count": null,
   "metadata": {},
   "outputs": [],
   "source": [
    "# for i in range(100):\n",
    "#     print(final_movie_list[i]['original_title'], movie_2018[i]['Name'])"
   ]
  },
  {
   "cell_type": "code",
   "execution_count": null,
   "metadata": {},
   "outputs": [],
   "source": [
    "# final_movie_list[0]"
   ]
  },
  {
   "cell_type": "code",
   "execution_count": null,
   "metadata": {},
   "outputs": [],
   "source": [
    "top_movies = requests.get(\"https://www.the-numbers.com/box-office-records/domestic/all-movies/cumulative/released-in-2018\")\n",
    "top_movies.status_code\n",
    "    "
   ]
  },
  {
   "cell_type": "code",
   "execution_count": null,
   "metadata": {},
   "outputs": [],
   "source": [
    "movies_soup = BeautifulSoup(top_movies.content, 'html.parser')"
   ]
  },
  {
   "cell_type": "code",
   "execution_count": null,
   "metadata": {},
   "outputs": [],
   "source": [
    "movies_soup.find_all('b')[0].get_text()"
   ]
  },
  {
   "cell_type": "code",
   "execution_count": null,
   "metadata": {},
   "outputs": [],
   "source": [
    "movies_numbers = movies_soup.find_all('td', class_='data')\n",
    "print(\"Rank\", movies_numbers[0].text)"
   ]
  },
  {
   "cell_type": "code",
   "execution_count": null,
   "metadata": {},
   "outputs": [],
   "source": [
    "len(movies_numbers)"
   ]
  },
  {
   "cell_type": "code",
   "execution_count": null,
   "metadata": {},
   "outputs": [],
   "source": [
    "top_movies_list = []\n",
    "for i in range(100):\n",
    "    name = movies_soup.find_all('b')[i].get_text()\n",
    "    top_movies_list.append(name)"
   ]
  },
  {
   "cell_type": "code",
   "execution_count": null,
   "metadata": {},
   "outputs": [],
   "source": [
    "print(top_movies_list)"
   ]
  },
  {
   "cell_type": "code",
   "execution_count": null,
   "metadata": {},
   "outputs": [],
   "source": [
    "# print(\"Opening Weekend: \", movies_info[2].text)"
   ]
  },
  {
   "cell_type": "code",
   "execution_count": null,
   "metadata": {},
   "outputs": [],
   "source": [
    "movies_info = movies_soup.find_all('td', align=\"right\")\n",
    "print(\"Domestic Box Office: \", movies_info[200].text)"
   ]
  },
  {
   "cell_type": "code",
   "execution_count": null,
   "metadata": {},
   "outputs": [],
   "source": [
    "movie_2018 = []\n",
    "dict_movie = {}\n",
    "rank = 0\n",
    "\n",
    "for i in range(0, len(movies_info), 4):\n",
    "#     name = movies_soup.find_all('b')[rank].get_text()\n",
    "    name = final_movie_list[rank]['original_title']\n",
    "    rank += 1\n",
    "    DMO = movies_info[i].text \n",
    "    OW = movies_info[i+2].text\n",
    "    dict_movie['Name'] = name\n",
    "    dict_movie['Rank'] = rank\n",
    "    DMO = DMO.replace(',', '')\n",
    "    dict_movie['Domestic Box Office'] = DMO.replace('$', '')\n",
    "    OW = OW.replace(',', '')\n",
    "    dict_movie['Opening Weekend'] = OW.replace('$', '')\n",
    "    movie_2018.append(dict_movie)\n",
    "    dict_movie = {}\n",
    "    \n",
    "    \n",
    "    "
   ]
  },
  {
   "cell_type": "code",
   "execution_count": null,
   "metadata": {},
   "outputs": [],
   "source": [
    "len(movies_info)"
   ]
  },
  {
   "cell_type": "code",
   "execution_count": null,
   "metadata": {},
   "outputs": [],
   "source": [
    "movie_2018[9]"
   ]
  },
  {
   "cell_type": "markdown",
   "metadata": {},
   "source": [
    "### Creating Tuples with Lists: Movie_2018, br_2018 and dvd_2018"
   ]
  },
  {
   "cell_type": "code",
   "execution_count": null,
   "metadata": {},
   "outputs": [],
   "source": [
    "# def sql_tubles(business_list):\n",
    "#     final_biz_list = []\n",
    "#     for i in business_list:\n",
    "#         business_tuple= (i['id'], i['name'], i['price'], i['review_count'],\n",
    "#                        i['rating'], i['Address'],\n",
    "#                        i['zip'], i['state'])\n",
    "#         final_biz_list.append(business_tuple)\n",
    "#     return final_biz_list"
   ]
  },
  {
   "cell_type": "code",
   "execution_count": null,
   "metadata": {},
   "outputs": [],
   "source": [
    "final_movie_2018 = []\n",
    "for i in movie_2018:\n",
    "    movie_tuple = (i['Name'], i['Rank'], i['Domestic Box Office'], i['Opening Weekend'])\n",
    "    final_movie_2018.append(movie_tuple)\n"
   ]
  },
  {
   "cell_type": "code",
   "execution_count": null,
   "metadata": {},
   "outputs": [],
   "source": [
    "final_movie_2018[0]"
   ]
  },
  {
   "cell_type": "code",
   "execution_count": null,
   "metadata": {},
   "outputs": [],
   "source": [
    "final_dvd_2018 = []\n",
    "for i in dvd_2018:\n",
    "    movie_tuple = (i['Name'], i['rank'], i['Units Sold'], i['Consumer Spending'])\n",
    "    final_dvd_2018.append(movie_tuple)"
   ]
  },
  {
   "cell_type": "code",
   "execution_count": null,
   "metadata": {},
   "outputs": [],
   "source": [
    "final_dvd_2018[0]"
   ]
  },
  {
   "cell_type": "code",
   "execution_count": null,
   "metadata": {},
   "outputs": [],
   "source": [
    "final_br_2018 = []\n",
    "for i in br_2018:\n",
    "    movie_tuple = (i['Name'], i['rank'], i['Units Sold'], i['Consumer Spending'])\n",
    "    final_br_2018.append(movie_tuple)"
   ]
  },
  {
   "cell_type": "code",
   "execution_count": null,
   "metadata": {},
   "outputs": [],
   "source": [
    "final_br_2018[0]"
   ]
  },
  {
   "cell_type": "code",
   "execution_count": null,
   "metadata": {},
   "outputs": [],
   "source": [
    "final_br_2019 = []\n",
    "for i in br_2019:\n",
    "    movie_tuple = (i['Name'], i['rank'], i['Units Sold'], i['Consumer Spending'])\n",
    "    final_br_2019.append(movie_tuple)"
   ]
  },
  {
   "cell_type": "code",
   "execution_count": null,
   "metadata": {},
   "outputs": [],
   "source": [
    "final_br_2019[0]"
   ]
  },
  {
   "cell_type": "code",
   "execution_count": null,
   "metadata": {},
   "outputs": [],
   "source": [
    "final_dvd_2019 = []\n",
    "for i in dvd_2019:\n",
    "    movie_tuple = (i['Name'], i['rank'], i['Units Sold'], i['Consumer Spending'])\n",
    "    final_dvd_2019.append(movie_tuple)"
   ]
  },
  {
   "cell_type": "code",
   "execution_count": null,
   "metadata": {},
   "outputs": [],
   "source": [
    "final_dvd_2019[5]"
   ]
  },
  {
   "cell_type": "markdown",
   "metadata": {},
   "source": [
    "## Setting up the DB"
   ]
  },
  {
   "cell_type": "code",
   "execution_count": null,
   "metadata": {},
   "outputs": [],
   "source": [
    "#import \n",
    "import mysql.connector \n",
    "from mysql.connector import errorcode\n",
    "import config\n",
    "import json"
   ]
  },
  {
   "cell_type": "code",
   "execution_count": null,
   "metadata": {},
   "outputs": [],
   "source": [
    "#connecting to AWS DB instance \n",
    "cnx = mysql.connector.connect(\n",
    "    host = config.host,\n",
    "    user = config.user,\n",
    "    password = config.passwd)\n",
    "\n",
    "print(cnx)\n"
   ]
  },
  {
   "cell_type": "code",
   "execution_count": null,
   "metadata": {},
   "outputs": [],
   "source": [
    "cursor = cnx.cursor()"
   ]
  },
  {
   "cell_type": "code",
   "execution_count": null,
   "metadata": {},
   "outputs": [],
   "source": [
    "db_name = 'Movies'"
   ]
  },
  {
   "cell_type": "code",
   "execution_count": null,
   "metadata": {},
   "outputs": [],
   "source": [
    "def create_database(cursor, database):\n",
    "    try:\n",
    "        cursor.execute(\n",
    "            \"CREATE DATABASE {} DEFAULT CHARACTER SET 'utf8'\".format(database))\n",
    "    except mysql.connector.Error as err:\n",
    "        print(\"Failed creating database: {}\".format(err))\n",
    "        exit(1)\n",
    "\n",
    "try:\n",
    "    cursor.execute(\"USE {}\".format(db_name))\n",
    "except mysql.connector.Error as err:\n",
    "    print(\"Database {} does not exists.\".format(db_name))\n",
    "    if err.errno == errorcode.ER_BAD_DB_ERROR:\n",
    "        create_database(cursor, db_name)\n",
    "        print(\"Database {} created successfully.\".format(db_name))\n",
    "        cnx.database = db_name\n",
    "    else:\n",
    "        print(err)\n",
    "        exit(1)"
   ]
  },
  {
   "cell_type": "code",
   "execution_count": null,
   "metadata": {},
   "outputs": [],
   "source": [
    "cnx.commit()\n",
    "cursor.close()\n",
    "cnx.close()"
   ]
  },
  {
   "cell_type": "code",
   "execution_count": null,
   "metadata": {},
   "outputs": [],
   "source": [
    "## CONNECT AGAIN FOR INSERTING DATA INTO TABLES\n",
    "\n",
    "cnx = mysql.connector.connect(\n",
    "    host = config.host,\n",
    "    user = config.user,\n",
    "    password = config.passwd,\n",
    "    database = db_name\n",
    ")\n",
    "cursor = cnx.cursor()\n",
    "print(cnx)"
   ]
  },
  {
   "cell_type": "code",
   "execution_count": null,
   "metadata": {},
   "outputs": [],
   "source": [
    "# Create a table for the dvd_2018\n",
    "create_dvd = \"\"\"\n",
    "CREATE TABLE dvd_2018 (\n",
    "name TEXT NOT NULL,\n",
    "rank TEXT NOT NULL,\n",
    "units_sold TEXT,\n",
    "consumer_spending TEXT\n",
    ");\n",
    "\"\"\""
   ]
  },
  {
   "cell_type": "code",
   "execution_count": null,
   "metadata": {},
   "outputs": [],
   "source": [
    "cursor.execute(create_dvd)"
   ]
  },
  {
   "cell_type": "code",
   "execution_count": null,
   "metadata": {},
   "outputs": [],
   "source": [
    "stmt = \"INSERT INTO dvd_2018 (name, rank, units_sold, consumer_spending) VALUES (%s, %s, %s, %s)\"\n",
    "cursor.executemany(stmt, final_dvd_2018)\n",
    "cnx.commit()"
   ]
  },
  {
   "cell_type": "code",
   "execution_count": null,
   "metadata": {},
   "outputs": [],
   "source": [
    "# Create a table for the dvd_2019\n",
    "create_dvd_2019 = \"\"\"\n",
    "CREATE TABLE dvd_2019 (\n",
    "name TEXT NOT NULL,\n",
    "rank TEXT NOT NULL,\n",
    "units_sold TEXT,\n",
    "consumer_spending TEXT\n",
    ");\n",
    "\"\"\""
   ]
  },
  {
   "cell_type": "code",
   "execution_count": null,
   "metadata": {},
   "outputs": [],
   "source": [
    "cursor.execute(create_dvd_2019)"
   ]
  },
  {
   "cell_type": "code",
   "execution_count": null,
   "metadata": {},
   "outputs": [],
   "source": [
    "stmt = \"INSERT INTO dvd_2019 (name, rank, units_sold, consumer_spending) VALUES (%s, %s, %s, %s)\"\n",
    "cursor.executemany(stmt, final_dvd_2019)\n",
    "cnx.commit()"
   ]
  },
  {
   "cell_type": "code",
   "execution_count": null,
   "metadata": {},
   "outputs": [],
   "source": [
    "# Create a table for the br_2018\n",
    "create_br = \"\"\"\n",
    "CREATE TABLE br_2018 (\n",
    "name TEXT NOT NULL,\n",
    "rank TEXT NOT NULL,\n",
    "units_sold TEXT,\n",
    "consumer_spending TEXT\n",
    ");\n",
    "\"\"\""
   ]
  },
  {
   "cell_type": "code",
   "execution_count": null,
   "metadata": {},
   "outputs": [],
   "source": [
    "cursor.execute(create_br)"
   ]
  },
  {
   "cell_type": "code",
   "execution_count": null,
   "metadata": {},
   "outputs": [],
   "source": [
    "stmt = \"INSERT INTO br_2018 (name, rank, units_sold, consumer_spending) VALUES (%s, %s, %s, %s)\"\n",
    "cursor.executemany(stmt, final_br_2018)\n",
    "cnx.commit()"
   ]
  },
  {
   "cell_type": "code",
   "execution_count": null,
   "metadata": {},
   "outputs": [],
   "source": [
    "# Create a table for the br_2019\n",
    "create_br_2019 = \"\"\"\n",
    "CREATE TABLE br_2019 (\n",
    "name TEXT NOT NULL,\n",
    "rank TEXT NOT NULL,\n",
    "units_sold TEXT,\n",
    "consumer_spending TEXT\n",
    ");\n",
    "\"\"\""
   ]
  },
  {
   "cell_type": "code",
   "execution_count": null,
   "metadata": {},
   "outputs": [],
   "source": [
    "cursor.execute(create_br_2019)"
   ]
  },
  {
   "cell_type": "code",
   "execution_count": null,
   "metadata": {},
   "outputs": [],
   "source": [
    "stmt = \"INSERT INTO br_2019 (name, rank, units_sold, consumer_spending) VALUES (%s, %s, %s, %s)\"\n",
    "cursor.executemany(stmt, final_br_2019)\n",
    "cnx.commit()"
   ]
  },
  {
   "cell_type": "code",
   "execution_count": null,
   "metadata": {},
   "outputs": [],
   "source": [
    "# Create a table for the top_movies_2018\n",
    "create_top_movies_2018 = \"\"\"\n",
    "CREATE TABLE top_movies_2018 (\n",
    "name TEXT NOT NULL,\n",
    "rank TEXT NOT NULL,\n",
    "Domestic_Box_Office TEXT,\n",
    "Opening_Weekend TEXT\n",
    ");\n",
    "\"\"\""
   ]
  },
  {
   "cell_type": "code",
   "execution_count": null,
   "metadata": {},
   "outputs": [],
   "source": [
    "cursor.execute(create_top_movies_2018)"
   ]
  },
  {
   "cell_type": "code",
   "execution_count": null,
   "metadata": {},
   "outputs": [],
   "source": [
    "stmt = \"INSERT INTO top_movies_2018 (name, rank, Domestic_Box_Office, Opening_Weekend) VALUES (%s, %s, %s, %s)\"\n",
    "cursor.executemany(stmt, final_movie_2018)\n",
    "cnx.commit()"
   ]
  },
  {
   "cell_type": "code",
   "execution_count": null,
   "metadata": {},
   "outputs": [],
   "source": [
    "cursor.close()\n",
    "cnx.close()"
   ]
  },
  {
   "cell_type": "code",
   "execution_count": null,
   "metadata": {},
   "outputs": [],
   "source": []
  },
  {
   "cell_type": "markdown",
   "metadata": {},
   "source": [
    "# API Call "
   ]
  },
  {
   "cell_type": "code",
   "execution_count": null,
   "metadata": {},
   "outputs": [],
   "source": [
    "key = '5b390aa1a8d5f85e35a82e52d7cebff4'"
   ]
  },
  {
   "cell_type": "code",
   "execution_count": null,
   "metadata": {},
   "outputs": [],
   "source": [
    "import requests"
   ]
  },
  {
   "cell_type": "code",
   "execution_count": null,
   "metadata": {},
   "outputs": [],
   "source": [
    "movie = requests.get(f'https://api.themoviedb.org/3/search/movie?api_key={key}&query=Black+Panther')"
   ]
  },
  {
   "cell_type": "code",
   "execution_count": null,
   "metadata": {},
   "outputs": [],
   "source": [
    "movie_data = movie.json()\n",
    "movie_data"
   ]
  },
  {
   "cell_type": "code",
   "execution_count": null,
   "metadata": {},
   "outputs": [],
   "source": [
    "bp = requests.get(f'https://api.themoviedb.org/3/movie/284054?api_key={key}&language=en÷-US')\n",
    "\n"
   ]
  },
  {
   "cell_type": "code",
   "execution_count": null,
   "metadata": {},
   "outputs": [],
   "source": [
    "bp_data = bp.json()\n",
    "bp_data"
   ]
  },
  {
   "cell_type": "code",
   "execution_count": null,
   "metadata": {
    "scrolled": true
   },
   "outputs": [],
   "source": [
    "top_movies_100 = top_movies_list\n",
    "top_movies_100[6] = 'The Grinch'\n",
    "top_movies_100[14] = 'Spider-Man: Into the Spider-Verse'\n",
    "top_movies_100[40] = 'Game Night'\n",
    "top_movies_100[85] = 'Nobody’s Fool'\n",
    "top_movies_100[98] = 'Won’t You Be My Neighbor?'\n",
    "top_movies_100[22] = 'Oceans 8'\n",
    "top_movies_100"
   ]
  },
  {
   "cell_type": "code",
   "execution_count": null,
   "metadata": {},
   "outputs": [],
   "source": [
    "test = requests.get(f'https://api.themoviedb.org/3/search/movie?api_key={key}&query=Oceans 8')"
   ]
  },
  {
   "cell_type": "code",
   "execution_count": null,
   "metadata": {},
   "outputs": [],
   "source": [
    "test_movie = test.json()\n",
    "test_movie['results'][0]"
   ]
  },
  {
   "cell_type": "code",
   "execution_count": null,
   "metadata": {
    "scrolled": true
   },
   "outputs": [],
   "source": [
    "import time\n",
    "count = 0\n",
    "\n",
    "for i in top_movies_100:\n",
    "    movie = requests.get(f'https://api.themoviedb.org/3/search/movie?api_key={key}&query={i}')\n",
    "    movie_json = movie.json()\n",
    "    # make 3 for loops\n",
    "    # when counter = 39 sleep 10 seconds \n",
    "\n",
    "    print(count, movie_json[\"results\"][0][\"id\"], movie_json[\"results\"][0][\"original_title\"], movie_json[\"results\"][0][\"vote_average\"])\n",
    "    count += 1\n",
    "    if count % 15 == 0:\n",
    "        time.sleep(10)"
   ]
  },
  {
   "cell_type": "code",
   "execution_count": null,
   "metadata": {},
   "outputs": [],
   "source": [
    "\n",
    "count = 0\n",
    "new_movie_list_dict = []\n",
    "movie_dict = {}\n",
    "\n",
    "for i in top_movies_100:\n",
    "    \n",
    "    movie = requests.get(f'https://api.themoviedb.org/3/search/movie?api_key={key}&query={i}')\n",
    "    movie_json = movie.json()\n",
    "    # make 3 for loops\n",
    "    # when counter = 39 sleep 10 seconds \n",
    "\n",
    "#     print(count, movie_json[\"results\"][0][\"id\"], movie_json[\"results\"][0][\"original_title\"], movie_json[\"results\"][0][\"vote_average\"])\n",
    "    movie_id = movie_json[\"results\"][0][\"id\"]\n",
    "    movie_info = requests.get(f'https://api.themoviedb.org/3/movie/{movie_id}?api_key={key}&language=en÷-US')\n",
    "    movie_data = movie_info.json()\n",
    "    new_movie_list_dict.append(movie_data)\n",
    "    time.sleep(1.3)"
   ]
  },
  {
   "cell_type": "code",
   "execution_count": null,
   "metadata": {},
   "outputs": [],
   "source": [
    "count = 0\n",
    "final_movie_list = []\n",
    "movie_dict = {}\n",
    "for i in range(len(new_movie_list_dict)):\n",
    "    m = new_movie_list_dict\n",
    "    movie_dict['id'] = m[i]['id']\n",
    "    movie_dict['original_title'] = m[i]['original_title']\n",
    "    movie_dict['budget'] = m[i]['budget']\n",
    "    movie_dict['vote_average'] = m[i][\"vote_average\"]\n",
    "    movie_dict['revenue'] = m[i]['revenue']\n",
    "    movie_dict['release_date'] = m[i]['release_date']\n",
    "    movie_dict['runtime'] = m[i]['runtime']\n",
    "    genres = m[i]['genres']\n",
    "    for i in range(len(genres)):\n",
    "        movie_dict[f'genre_{i}'] = genres[i]['name']\n",
    "    final_movie_list.append(movie_dict)\n",
    "    movie_dict = {}\n",
    "    "
   ]
  },
  {
   "cell_type": "code",
   "execution_count": null,
   "metadata": {},
   "outputs": [],
   "source": [
    "final_movie_list[0]"
   ]
  },
  {
   "cell_type": "code",
   "execution_count": null,
   "metadata": {},
   "outputs": [],
   "source": [
    "count = 0\n",
    "final_movie_list_2018 = []\n",
    "for n in range(len(final_movie_list)):\n",
    "    i = final_movie_list[n]\n",
    "       \n",
    "    if len(i) == 8:\n",
    "        movie_tuple = (i['id'], i['original_title'], i['budget'], i['vote_average'], \n",
    "                       i['revenue'], i['release_date'], i['runtime'], i['genre_0'])\n",
    "        stmt = \"INSERT INTO top_movies_info (id, original_title, budget, vote_average, revenue, release_date, runtime, genre) VALUES (%s, %s, %s, %s, %s, %s, %s, %s)\"\n",
    "        cursor.execute(stmt, movie_tuple)\n",
    "        \n",
    "    elif len(i) == 9:\n",
    "        movie_tuple = (i['id'], i['original_title'], i['budget'], i['vote_average'], \n",
    "                       i['revenue'], i['release_date'], i['runtime'], i['genre_0'], \n",
    "                       i['genre_1'])\n",
    "        stmt = \"INSERT INTO top_movies_info (id, original_title, budget, vote_average, revenue, release_date, runtime, genre, genre_1) VALUES (%s, %s, %s, %s, %s, %s, %s, %s, %s)\"\n",
    "        cursor.execute(stmt, movie_tuple)\n",
    "        \n",
    "    elif len(i) == 10:\n",
    "        movie_tuple = (i['id'], i['original_title'], i['budget'], i['vote_average'], \n",
    "                       i['revenue'], i['release_date'], i['runtime'], i['genre_0'], \n",
    "                       i['genre_1'], i['genre_2'])\n",
    "        stmt = \"INSERT INTO top_movies_info (id, original_title, budget, vote_average, revenue, release_date, runtime, genre, genre_1, genre_2) VALUES (%s, %s, %s, %s, %s, %s, %s, %s, %s, %s)\"\n",
    "        cursor.execute(stmt, movie_tuple)\n",
    "        \n",
    "    elif len(i) == 11:\n",
    "        movie_tuple = (i['id'], i['original_title'], i['budget'], i['vote_average'], \n",
    "                       i['revenue'], i['release_date'], i['runtime'], i['genre_0'], \n",
    "                       i['genre_1'], i['genre_2'], i['genre_3'])\n",
    "        stmt = \"INSERT INTO top_movies_info (id, original_title, budget, vote_average, revenue, release_date, runtime, genre, genre_1, genre_2, genre_3) VALUES (%s, %s, %s, %s, %s, %s, %s, %s, %s, %s, %s)\"\n",
    "        cursor.execute(stmt, movie_tuple)\n",
    "        \n",
    "    elif len(i) == 12:\n",
    "        movie_tuple = (i['id'], i['original_title'], i['budget'], i['vote_average'], \n",
    "                       i['revenue'], i['release_date'], i['runtime'], i['genre_0'], \n",
    "                       i['genre_1'], i['genre_2'], i['genre_3'], i['genre_4'])\n",
    "        stmt = \"INSERT INTO top_movies_info (id, original_title, budget, vote_average, revenue, release_date, runtime, genre, genre_1, genre_2, genre_3, genre_4) VALUES (%s, %s, %s, %s, %s, %s, %s, %s, %s, %s, %s, %s)\"\n",
    "        cursor.execute(stmt, movie_tuple)\n",
    "        \n",
    "    elif len(i) == 13:\n",
    "        movie_tuple = (i['id'], i['original_title'], i['budget'], i['vote_average'], \n",
    "                       i['revenue'], i['release_date'], i['runtime'], i['genre_0'], \n",
    "                       i['genre_1'], i['genre_2'], i['genre_3'], i['genre_4'], i['genre_5'])\n",
    "        stmt = \"INSERT INTO top_movies_info (id, original_title, budget, vote_average, revenue, release_date, runtime, genre, genre_1, genre_2, genre_3, genre_4, genre_5) VALUES (%s, %s, %s, %s, %s, %s, %s, %s, %s, %s, %s, %s, %s)\"\n",
    "        cursor.execute(stmt, movie_tuple)\n",
    "        \n",
    "    else: \n",
    "        movie_tuple = (i['id'], i['original_title'], i['budget'], i['vote_average'], \n",
    "                       i['revenue'], i['release_date'], i['runtime'], i['genre_0'], \n",
    "                       i['genre_1'], i['genre_2'], i['genre_3'], i['genre_4'], i['genre_5'], i['genre_6'])\n",
    "        stmt = \"INSERT INTO top_movies_info (id, original_title, budget, vote_average, revenue, release_date, runtime, genre, genre_1, genre_2, genre_3, genre_4, genre_5, genre_6) VALUES (%s, %s, %s, %s, %s, %s, %s, %s, %s, %s, %s, %s, %s, %s)\"\n",
    "        cursor.execute(stmt, movie_tuple)\n",
    "    \n",
    "    print(count)\n",
    "#     print(f'movie_tuple = {movie_tuple}')\n",
    "    count += 1\n",
    "    final_movie_list_2018.append(movie_tuple)"
   ]
  },
  {
   "cell_type": "code",
   "execution_count": null,
   "metadata": {},
   "outputs": [],
   "source": [
    "final_movie_list_2018[22][1]"
   ]
  },
  {
   "cell_type": "code",
   "execution_count": null,
   "metadata": {},
   "outputs": [],
   "source": [
    "#List of all the movie titles \n",
    "movie_titles_2018 = []\n",
    "for i in final_movie_list_2018:\n",
    "    title = i[1]\n",
    "    movie_titles_2018.append(title)"
   ]
  },
  {
   "cell_type": "markdown",
   "metadata": {},
   "source": [
    "# Adding The Movie DB API to SQL"
   ]
  },
  {
   "cell_type": "code",
   "execution_count": null,
   "metadata": {},
   "outputs": [],
   "source": [
    "cnx = mysql.connector.connect(\n",
    "    host = config.host,\n",
    "    user = config.user,\n",
    "    password = config.passwd,\n",
    "    database = db_name\n",
    ")\n",
    "cursor = cnx.cursor()\n",
    "print(cnx)"
   ]
  },
  {
   "cell_type": "code",
   "execution_count": null,
   "metadata": {},
   "outputs": [],
   "source": [
    "# (i['id'], i['original_title'], i['budget'], i['vote_average'], \n",
    "#                        i['revenue'], i['release_date'], i['runtime'], i['genre_0'], \n",
    "#                        i['genre_1'], i['genre_2'], i['genre_3'], i['genre_4'], i['genre_5'], i['genre_6'])\n",
    "#creating table:\n",
    "# Create a table for the top_movies_2018\n",
    "create_top_movies_info = \"\"\"\n",
    "CREATE TABLE top_movies_info (\n",
    "id TEXT NOT NULL,\n",
    "original_title TEXT NOT NULL,\n",
    "budget TEXT NOT NULL,\n",
    "vote_average TEXT,\n",
    "revenue TEXT,\n",
    "release_date DATETIME, \n",
    "runtime REAL,\n",
    "genre TEXT,\n",
    "genre_1 TEXT,\n",
    "genre_2 TEXT,\n",
    "genre_3 TEXT,\n",
    "genre_4 TEXT,\n",
    "genre_5 TEXT,\n",
    "genre_6 TEXT\n",
    ");\n",
    "\"\"\""
   ]
  },
  {
   "cell_type": "code",
   "execution_count": null,
   "metadata": {},
   "outputs": [],
   "source": [
    "cursor.execute(create_top_movies_info)"
   ]
  },
  {
   "cell_type": "code",
   "execution_count": null,
   "metadata": {},
   "outputs": [],
   "source": [
    "cnx.commit()"
   ]
  },
  {
   "cell_type": "code",
   "execution_count": null,
   "metadata": {},
   "outputs": [],
   "source": [
    "cursor.close()\n",
    "cnx.close()"
   ]
  },
  {
   "cell_type": "code",
   "execution_count": null,
   "metadata": {},
   "outputs": [],
   "source": []
  }
 ],
 "metadata": {
  "kernelspec": {
   "display_name": "learn-env",
   "language": "python",
   "name": "learn-env"
  },
  "language_info": {
   "codemirror_mode": {
    "name": "ipython",
    "version": 3
   },
   "file_extension": ".py",
   "mimetype": "text/x-python",
   "name": "python",
   "nbconvert_exporter": "python",
   "pygments_lexer": "ipython3",
   "version": "3.7.3"
  }
 },
 "nbformat": 4,
 "nbformat_minor": 2
}
