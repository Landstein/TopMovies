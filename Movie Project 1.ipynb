{
 "cells": [
  {
   "cell_type": "markdown",
   "metadata": {},
   "source": [
    "# Mod 1 Movie Project"
   ]
  },
  {
   "cell_type": "markdown",
   "metadata": {},
   "source": [
    "#### Scrape the DVD / Blue Ray sales from https://www.the-numbers.com/\n",
    "1. Import request to get the webpage in a json format \n",
    "1. Use beautiful soup to parse the html\n",
    "2. scrape the top DVD sales for 2018 / 2019\n",
    "3. Scrape the top blue ray sales for 2018 / 2019\n",
    "4. Built function top_100_sales that intakes a URL of a top 100 page and outputs a list of dictionaries\n",
    "5. Output example: \n",
    "    {'Name': 'Mamma Mia!',\n",
    "     'rank': 100,\n",
    "     'Units Sold': '232687',\n",
    "     'Consumer Spending': '2522707'}"
   ]
  },
  {
   "cell_type": "code",
   "execution_count": null,
   "metadata": {},
   "outputs": [],
   "source": [
    "import requests\n",
    "import time\n",
    "\n",
    "from bs4 import BeautifulSoup\n",
    "\n",
    "import config\n"
   ]
  },
  {
   "cell_type": "code",
   "execution_count": null,
   "metadata": {},
   "outputs": [],
   "source": [
    "#Movie Title corrections \n",
    "CORRECTION_DICT = {'Dr. Seussâ\\x80\\x99 The Grinch':'The Grinch',\n",
    "                   'Spider-Man: Into The Spider-Verse 3D':'Spider-Man: Into the Spider-Verse',\n",
    "                   'Nobodyâ\\x80\\x99s Fool':'Nobody’s Fool',\n",
    "                   'Wonâ\\x80\\x99t You Be My Neighbor?':'Won’t You Be My Neighbor?',\n",
    "                   'Oceanâ\\x80\\x99s 8':'Oceans 8'}"
   ]
  },
  {
   "cell_type": "code",
   "execution_count": null,
   "metadata": {},
   "outputs": [],
   "source": [
    "#Scrapes the-numbers webpage for top 100 dvd / br sales \n",
    "def top_100_sales(url):\n",
    "    top_list = []\n",
    "    top_dict = {}\n",
    "    \n",
    "    top_url = requests.get(url)\n",
    "    top_soup = BeautifulSoup(top_url.content, 'html.parser')\n",
    "    top_numbers = top_soup.find_all('td', class_='data')\n",
    "    \n",
    "    \n",
    "\n",
    "    for i in range(0, len(top_numbers), 3):\n",
    "        rank = top_numbers[i].text \n",
    "        rank_int = int(rank)\n",
    "        units_sold = top_numbers[i+1].text \n",
    "        consumer_spending = top_numbers[i+2].text\n",
    "        movie_name = top_soup.find_all('b')[rank_int - 1].get_text()\n",
    "        top_dict['Name'] = movie_name\n",
    "        top_dict['rank'] = rank_int\n",
    "        top_dict['Units Sold'] = units_sold.replace(',', '')\n",
    "        consumer_spending =  consumer_spending.replace('$', '')\n",
    "        top_dict['Consumer Spending'] = consumer_spending.replace(',', '')\n",
    "        top_list.append(top_dict)\n",
    "        top_dict = {}\n",
    "        \n",
    "    return top_list"
   ]
  },
  {
   "cell_type": "code",
   "execution_count": null,
   "metadata": {},
   "outputs": [],
   "source": [
    "#corrects the incorrect movie titles \n",
    "def dvd_br_corrections(movie_list):\n",
    "    new_movie_list = []\n",
    "    \n",
    "    for movie in movie_list: \n",
    "#         new_movie_list.append(CORRECTION_DICT.get(movie['Name'], movie['Name']))\n",
    "        if movie['Name'] in CORRECTION_DICT.keys():\n",
    "            movie['Name'] = CORRECTION_DICT[movie['Name']]\n",
    "\n",
    "    return movie_list"
   ]
  },
  {
   "cell_type": "markdown",
   "metadata": {},
   "source": [
    "# Top 2018 Domestic Movies"
   ]
  },
  {
   "cell_type": "code",
   "execution_count": null,
   "metadata": {},
   "outputs": [],
   "source": [
    "#Takes in url of top 100 movies and a dictionary of the movies from the API Call \n",
    "\n",
    "def top_domestic_movies(url, final_movie_list):\n",
    "    top_movies_list = []\n",
    "    \n",
    "    top_movies = requests.get(url)\n",
    "    movies_soup = BeautifulSoup(top_movies.content, 'html.parser')\n",
    "    movies_numbers = movies_soup.find_all('td', class_='data')\n",
    "    \n",
    "    \n",
    "    for i in range(100):\n",
    "        name = movies_soup.find_all('b')[i].get_text()\n",
    "        top_movies_list.append(name)\n",
    "    \n",
    "    movies_info = movies_soup.find_all('td', align=\"right\")\n",
    "    \n",
    "    movie_2018 = []\n",
    "    dict_movie = {}\n",
    "    rank = 0\n",
    "    \n",
    "    #in range 400 because each movie has a name, rank, domestic box office and opening weekend \n",
    "\n",
    "    for i in range(0, 400, 4):\n",
    "        name = final_movie_list[rank]['original_title']\n",
    "        rank += 1\n",
    "        domestic_box_office = movies_info[i].text \n",
    "        opening_weekend = movies_info[i+2].text\n",
    "        dict_movie['Name'] = name\n",
    "        dict_movie['Rank'] = rank\n",
    "        domestic_box_office = domestic_box_office.replace(',', '')\n",
    "        dict_movie['Domestic Box Office'] = domestic_box_office.replace('$', '')\n",
    "        opening_weekend = opening_weekend.replace(',', '')\n",
    "        dict_movie['Opening Weekend'] = opening_weekend.replace('$', '')\n",
    "        movie_2018.append(dict_movie)\n",
    "        dict_movie = {}\n",
    "        \n",
    "    return movie_2018"
   ]
  },
  {
   "cell_type": "code",
   "execution_count": null,
   "metadata": {},
   "outputs": [],
   "source": [
    "#creates tuple for dvd and br movies\n",
    "def dvd_br_tuple(top_dvd_br_list):\n",
    "    movie_tuple_list = []\n",
    "    for i in top_dvd_br_list:\n",
    "        movie_tuple = (i['Name'], i['rank'], i['Units Sold'], i['Consumer Spending'])\n",
    "        movie_tuple_list.append(movie_tuple)\n",
    "    return movie_tuple_list\n",
    "        "
   ]
  },
  {
   "cell_type": "code",
   "execution_count": null,
   "metadata": {},
   "outputs": [],
   "source": [
    "#creates tuple for top 100 movies \n",
    "def top_movie_tuple(top_movie_list):\n",
    "    movie_tuple_list = []\n",
    "    for i in top_movie_list:\n",
    "        movie_tuple = (i['Name'], i['Rank'], i['Domestic Box Office'], i['Opening Weekend'])\n",
    "        movie_tuple_list.append(movie_tuple)\n",
    "    return movie_tuple_list"
   ]
  },
  {
   "cell_type": "markdown",
   "metadata": {},
   "source": [
    "## Setting up the DB"
   ]
  },
  {
   "cell_type": "code",
   "execution_count": null,
   "metadata": {},
   "outputs": [],
   "source": [
    "#import \n",
    "import mysql.connector \n",
    "from mysql.connector import errorcode\n",
    "import config\n",
    "import json"
   ]
  },
  {
   "cell_type": "code",
   "execution_count": null,
   "metadata": {},
   "outputs": [],
   "source": [
    "#connecting to AWS DB instance\n",
    "cnx = mysql.connector.connect(\n",
    "        host = config.host,\n",
    "        user = config.user,\n",
    "        password = config.passwd)\n",
    "\n",
    "print(cnx)\n",
    "cursor = cnx.cursor()\n",
    "\n",
    "db_name = 'Movies'"
   ]
  },
  {
   "cell_type": "code",
   "execution_count": null,
   "metadata": {},
   "outputs": [],
   "source": [
    "#creates db\n",
    "def create_database(cursor, database):\n",
    "    try:\n",
    "        cursor.execute(\n",
    "            \"CREATE DATABASE {} DEFAULT CHARACTER SET 'utf8'\".format(database))\n",
    "    except mysql.connector.Error as err:\n",
    "        print(\"Failed creating database: {}\".format(err))\n",
    "        exit(1)\n",
    "\n",
    "try:\n",
    "    cursor.execute(\"USE {}\".format(db_name))\n",
    "except mysql.connector.Error as err:\n",
    "    print(\"Database {} does not exists.\".format(db_name))\n",
    "    if err.errno == errorcode.ER_BAD_DB_ERROR:\n",
    "        create_database(cursor, db_name)\n",
    "        print(\"Database {} created successfully.\".format(db_name))\n",
    "        cnx.database = db_name\n",
    "    else:\n",
    "        print(err)\n",
    "        exit(1)"
   ]
  },
  {
   "cell_type": "code",
   "execution_count": null,
   "metadata": {},
   "outputs": [],
   "source": [
    "cnx.commit()\n",
    "cursor.close()\n",
    "cnx.close()"
   ]
  },
  {
   "cell_type": "code",
   "execution_count": null,
   "metadata": {},
   "outputs": [],
   "source": [
    "# CONNECT AGAIN FOR INSERTING DATA INTO TABLES\n",
    "cnx = mysql.connector.connect(\n",
    "        host = config.host,\n",
    "        user = config.user,\n",
    "        password = config.passwd,\n",
    "        database = db_name\n",
    "    )\n",
    "cursor = cnx.cursor()\n",
    "print(cnx)\n",
    "\n",
    "#creating and commiting to the tables in DB \n",
    "def create_table_dvd18():\n",
    "    \n",
    "    create_dvd = \"\"\"\n",
    "    CREATE TABLE dvd_2018 (\n",
    "    name TEXT NOT NULL,\n",
    "    rank TEXT NOT NULL,\n",
    "    units_sold TEXT,\n",
    "    consumer_spending TEXT\n",
    "    );\n",
    "    \"\"\"\n",
    "    cursor.execute(create_dvd)\n",
    "    \n",
    "def commit_dvd18(dvd_2018_scrape):\n",
    "    stmt = \"INSERT INTO dvd_2018 (name, rank, units_sold, consumer_spending) VALUES (%s, %s, %s, %s)\"\n",
    "    cursor.executemany(stmt, dvd_2018_scrape)\n",
    "    cnx.commit()\n",
    "    \n",
    "def create_table_dvd19():\n",
    "    \n",
    "    create_dvd_2019 = \"\"\"\n",
    "    CREATE TABLE dvd_2019 (\n",
    "    name TEXT NOT NULL,\n",
    "    rank TEXT NOT NULL,\n",
    "    units_sold TEXT,\n",
    "    consumer_spending TEXT\n",
    "    );\n",
    "    \"\"\"\n",
    "    cursor.execute(create_dvd_2019)\n",
    "    \n",
    "def commit_dvd19(dvd_2019_scrape):\n",
    "    stmt = \"INSERT INTO dvd_2019 (name, rank, units_sold, consumer_spending) VALUES (%s, %s, %s, %s)\"\n",
    "    cursor.executemany(dvd_2019_scrape)\n",
    "    cnx.commit()\n",
    "    \n",
    "def create_table_br18():\n",
    "    # Create a table for the br_2018\n",
    "    create_br = \"\"\"\n",
    "    CREATE TABLE br_2018 (\n",
    "    name TEXT NOT NULL,\n",
    "    rank TEXT NOT NULL,\n",
    "    units_sold TEXT,\n",
    "    consumer_spending TEXT\n",
    "    );\n",
    "    \"\"\"\n",
    "\n",
    "    cursor.execute(create_br)\n",
    "    \n",
    "def commit_br18(br_2018_scrape):\n",
    "    stmt = \"INSERT INTO br_2018 (name, rank, units_sold, consumer_spending) VALUES (%s, %s, %s, %s)\"\n",
    "    cursor.executemany(stmt, br_2018_scrape)\n",
    "    cnx.commit()\n",
    "    \n",
    "def create_table_br19():\n",
    "    # Create a table for the br_2019\n",
    "    create_br_2019 = \"\"\"\n",
    "    CREATE TABLE br_2019 (\n",
    "    name TEXT NOT NULL,\n",
    "    rank TEXT NOT NULL,\n",
    "    units_sold TEXT,\n",
    "    consumer_spending TEXT\n",
    "    );\n",
    "    \"\"\"\n",
    "    cursor.execute(create_br_2019)\n",
    "\n",
    "def commit_br19(br_2019_scrape):\n",
    "    stmt = \"INSERT INTO br_2019 (name, rank, units_sold, consumer_spending) VALUES (%s, %s, %s, %s)\"\n",
    "    cursor.executemany(stmt, final_br_2019)\n",
    "    cnx.commit()\n",
    "    \n",
    "def create_table_movies():\n",
    "    create_top_movies_2018 = \"\"\"\n",
    "    CREATE TABLE top_movies_2018 (\n",
    "    name TEXT NOT NULL,\n",
    "    rank TEXT NOT NULL,\n",
    "    Domestic_Box_Office TEXT,\n",
    "    Opening_Weekend TEXT\n",
    "    );\n",
    "    \"\"\"\n",
    "    cursor.execute(create_top_movies_2018)\n",
    "    \n",
    "def commit_top_movies(top_movie_scrape):\n",
    "    stmt = \"INSERT INTO top_movies_2018 (name, rank, Domestic_Box_Office, Opening_Weekend) VALUES (%s, %s, %s, %s)\"\n",
    "    cursor.executemany(stmt, top_movie_scrape)\n",
    "    cnx.commit()\n",
    "    \n",
    "cursor.close()\n",
    "cnx.close()"
   ]
  },
  {
   "cell_type": "markdown",
   "metadata": {},
   "source": [
    "# API Call "
   ]
  },
  {
   "cell_type": "code",
   "execution_count": null,
   "metadata": {},
   "outputs": [],
   "source": [
    "#API Key\n",
    "KEY = config.api_key"
   ]
  },
  {
   "cell_type": "code",
   "execution_count": null,
   "metadata": {
    "scrolled": true
   },
   "outputs": [],
   "source": [
    "top_movies_100 = top_movies_list\n",
    "\n",
    "# top_movies_100"
   ]
  },
  {
   "cell_type": "code",
   "execution_count": null,
   "metadata": {},
   "outputs": [],
   "source": [
    "#helper function \n",
    "def movie_corrections(movie_list):\n",
    "    new_movie_list = []\n",
    "    \n",
    "    for movie in movie_list: \n",
    "        new_movie_list.append(CORRECTION_DICT.get(movie, movie))\n",
    "\n",
    "    return new_movie_list"
   ]
  },
  {
   "cell_type": "code",
   "execution_count": null,
   "metadata": {},
   "outputs": [],
   "source": [
    "top_movies_100 = movie_corrections(top_movies_100)\n"
   ]
  },
  {
   "cell_type": "code",
   "execution_count": null,
   "metadata": {},
   "outputs": [],
   "source": [
    "def movie_db_api_call(top_movies_100):\n",
    "    count = 0\n",
    "    new_movie_list_dict = []\n",
    "    movie_dict = {}\n",
    "\n",
    "    for movie in top_movies_100:\n",
    "\n",
    "        movie = requests.get(f'https://api.themoviedb.org/3/search/movie?api_key={KEY}&query={movie}')\n",
    "        movie_json = movie.json()\n",
    "        # make 3 for loops\n",
    "        # when counter = 39 sleep 10 seconds \n",
    "\n",
    "        #print(count, movie_json[\"results\"][0][\"id\"], movie_json[\"results\"][0][\"original_title\"], movie_json[\"results\"][0][\"vote_average\"])\n",
    "        movie_id = movie_json[\"results\"][0][\"id\"]\n",
    "        movie_info = requests.get(f'https://api.themoviedb.org/3/movie/{movie_id}?api_key={KEY}&language=en÷-US')\n",
    "        movie_data = movie_info.json()\n",
    "        new_movie_list_dict.append(movie_data)\n",
    "        time.sleep(1.3)\n",
    "        \n",
    "    return new_movie_list_dict\n"
   ]
  },
  {
   "cell_type": "code",
   "execution_count": null,
   "metadata": {},
   "outputs": [],
   "source": [
    "def movie_dicts_final(new_movie_list_dict):\n",
    "    count = 0\n",
    "    final_movie_list = []\n",
    "    movie_dict = {}\n",
    "    for i in range(len(new_movie_list_dict)):\n",
    "        m = new_movie_list_dict\n",
    "        movie_dict['id'] = m[i]['id']\n",
    "        movie_dict['original_title'] = m[i]['original_title']\n",
    "        movie_dict['budget'] = m[i]['budget']\n",
    "        movie_dict['vote_average'] = m[i][\"vote_average\"]\n",
    "        movie_dict['revenue'] = m[i]['revenue']\n",
    "        movie_dict['release_date'] = m[i]['release_date']\n",
    "        movie_dict['runtime'] = m[i]['runtime']\n",
    "        genres = m[i]['genres']\n",
    "        for i in range(len(genres)):\n",
    "            movie_dict[f'genre_{i}'] = genres[i]['name']\n",
    "        final_movie_list.append(movie_dict)\n",
    "        movie_dict = {}\n",
    "        \n",
    "    return final_movie_list\n",
    "    "
   ]
  },
  {
   "cell_type": "code",
   "execution_count": null,
   "metadata": {},
   "outputs": [],
   "source": [
    "def final_movie_tuple(final_movie_list):    \n",
    "    count = 0\n",
    "    final_movie_list_2018 = []\n",
    "    for n in range(len(final_movie_list)):\n",
    "        i = final_movie_list[n]\n",
    "\n",
    "        if len(i) == 8:\n",
    "            movie_tuple = (i['id'], i['original_title'], i['budget'], i['vote_average'], \n",
    "                           i['revenue'], i['release_date'], i['runtime'], i['genre_0'])\n",
    "            stmt = \"INSERT INTO top_movies_info (id, original_title, budget, vote_average, revenue, release_date, runtime, genre) VALUES (%s, %s, %s, %s, %s, %s, %s, %s)\"\n",
    "            cursor.execute(stmt, movie_tuple)\n",
    "\n",
    "        elif len(i) == 9:\n",
    "            movie_tuple = (i['id'], i['original_title'], i['budget'], i['vote_average'], \n",
    "                           i['revenue'], i['release_date'], i['runtime'], i['genre_0'], \n",
    "                           i['genre_1'])\n",
    "            stmt = \"INSERT INTO top_movies_info (id, original_title, budget, vote_average, revenue, release_date, runtime, genre, genre_1) VALUES (%s, %s, %s, %s, %s, %s, %s, %s, %s)\"\n",
    "            cursor.execute(stmt, movie_tuple)\n",
    "\n",
    "        elif len(i) == 10:\n",
    "            movie_tuple = (i['id'], i['original_title'], i['budget'], i['vote_average'], \n",
    "                           i['revenue'], i['release_date'], i['runtime'], i['genre_0'], \n",
    "                           i['genre_1'], i['genre_2'])\n",
    "            stmt = \"INSERT INTO top_movies_info (id, original_title, budget, vote_average, revenue, release_date, runtime, genre, genre_1, genre_2) VALUES (%s, %s, %s, %s, %s, %s, %s, %s, %s, %s)\"\n",
    "            cursor.execute(stmt, movie_tuple)\n",
    "\n",
    "        elif len(i) == 11:\n",
    "            movie_tuple = (i['id'], i['original_title'], i['budget'], i['vote_average'], \n",
    "                           i['revenue'], i['release_date'], i['runtime'], i['genre_0'], \n",
    "                           i['genre_1'], i['genre_2'], i['genre_3'])\n",
    "            stmt = \"INSERT INTO top_movies_info (id, original_title, budget, vote_average, revenue, release_date, runtime, genre, genre_1, genre_2, genre_3) VALUES (%s, %s, %s, %s, %s, %s, %s, %s, %s, %s, %s)\"\n",
    "            cursor.execute(stmt, movie_tuple)\n",
    "\n",
    "        elif len(i) == 12:\n",
    "            movie_tuple = (i['id'], i['original_title'], i['budget'], i['vote_average'], \n",
    "                           i['revenue'], i['release_date'], i['runtime'], i['genre_0'], \n",
    "                           i['genre_1'], i['genre_2'], i['genre_3'], i['genre_4'])\n",
    "            stmt = \"INSERT INTO top_movies_info (id, original_title, budget, vote_average, revenue, release_date, runtime, genre, genre_1, genre_2, genre_3, genre_4) VALUES (%s, %s, %s, %s, %s, %s, %s, %s, %s, %s, %s, %s)\"\n",
    "            cursor.execute(stmt, movie_tuple)\n",
    "\n",
    "        elif len(i) == 13:\n",
    "            movie_tuple = (i['id'], i['original_title'], i['budget'], i['vote_average'], \n",
    "                           i['revenue'], i['release_date'], i['runtime'], i['genre_0'], \n",
    "                           i['genre_1'], i['genre_2'], i['genre_3'], i['genre_4'], i['genre_5'])\n",
    "            stmt = \"INSERT INTO top_movies_info (id, original_title, budget, vote_average, revenue, release_date, runtime, genre, genre_1, genre_2, genre_3, genre_4, genre_5) VALUES (%s, %s, %s, %s, %s, %s, %s, %s, %s, %s, %s, %s, %s)\"\n",
    "            cursor.execute(stmt, movie_tuple)\n",
    "\n",
    "        else: \n",
    "            movie_tuple = (i['id'], i['original_title'], i['budget'], i['vote_average'], \n",
    "                           i['revenue'], i['release_date'], i['runtime'], i['genre_0'], \n",
    "                           i['genre_1'], i['genre_2'], i['genre_3'], i['genre_4'], i['genre_5'], i['genre_6'])\n",
    "            stmt = \"INSERT INTO top_movies_info (id, original_title, budget, vote_average, revenue, release_date, runtime, genre, genre_1, genre_2, genre_3, genre_4, genre_5, genre_6) VALUES (%s, %s, %s, %s, %s, %s, %s, %s, %s, %s, %s, %s, %s, %s)\"\n",
    "            cursor.execute(stmt, movie_tuple)\n",
    "\n",
    "        print(count)\n",
    "    #     print(f'movie_tuple = {movie_tuple}')\n",
    "        count += 1\n",
    "        final_movie_list_2018.append(movie_tuple)\n",
    "        return final_movie_list_2018"
   ]
  },
  {
   "cell_type": "markdown",
   "metadata": {},
   "source": [
    "# Adding The Movie DB API to SQL"
   ]
  },
  {
   "cell_type": "code",
   "execution_count": null,
   "metadata": {},
   "outputs": [],
   "source": [
    "cnx = mysql.connector.connect(\n",
    "    host = config.host,\n",
    "    user = config.user,\n",
    "    password = config.passwd,\n",
    "    database = db_name\n",
    ")\n",
    "cursor = cnx.cursor()\n",
    "print(cnx)"
   ]
  },
  {
   "cell_type": "code",
   "execution_count": null,
   "metadata": {},
   "outputs": [],
   "source": [
    "# (i['id'], i['original_title'], i['budget'], i['vote_average'], \n",
    "#                        i['revenue'], i['release_date'], i['runtime'], i['genre_0'], \n",
    "#                        i['genre_1'], i['genre_2'], i['genre_3'], i['genre_4'], i['genre_5'], i['genre_6'])\n",
    "#creating table:\n",
    "# Create a table for the top_movies_2018\n",
    "create_top_movies_info = \"\"\"\n",
    "CREATE TABLE top_movies_info (\n",
    "id TEXT NOT NULL,\n",
    "original_title TEXT NOT NULL,\n",
    "budget TEXT NOT NULL,\n",
    "vote_average TEXT,\n",
    "revenue TEXT,\n",
    "release_date DATETIME, \n",
    "runtime REAL,\n",
    "genre TEXT,\n",
    "genre_1 TEXT,\n",
    "genre_2 TEXT,\n",
    "genre_3 TEXT,\n",
    "genre_4 TEXT,\n",
    "genre_5 TEXT,\n",
    "genre_6 TEXT\n",
    ");\n",
    "\"\"\""
   ]
  },
  {
   "cell_type": "code",
   "execution_count": null,
   "metadata": {},
   "outputs": [],
   "source": [
    "cursor.execute(create_top_movies_info)"
   ]
  },
  {
   "cell_type": "code",
   "execution_count": null,
   "metadata": {},
   "outputs": [],
   "source": [
    "cnx.commit()"
   ]
  },
  {
   "cell_type": "code",
   "execution_count": null,
   "metadata": {},
   "outputs": [],
   "source": [
    "cursor.close()\n",
    "cnx.close()"
   ]
  },
  {
   "cell_type": "code",
   "execution_count": null,
   "metadata": {},
   "outputs": [],
   "source": []
  }
 ],
 "metadata": {
  "kernelspec": {
   "display_name": "learn-env",
   "language": "python",
   "name": "learn-env"
  },
  "language_info": {
   "codemirror_mode": {
    "name": "ipython",
    "version": 3
   },
   "file_extension": ".py",
   "mimetype": "text/x-python",
   "name": "python",
   "nbconvert_exporter": "python",
   "pygments_lexer": "ipython3",
   "version": "3.7.3"
  }
 },
 "nbformat": 4,
 "nbformat_minor": 2
}
